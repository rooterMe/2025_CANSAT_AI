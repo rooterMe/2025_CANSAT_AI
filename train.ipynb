{
 "cells": [
  {
   "cell_type": "code",
   "execution_count": null,
   "id": "4e6daf06",
   "metadata": {},
   "outputs": [],
   "source": [
    "import gym\n",
    "import gym_jsbsim\n",
    "from stable_baselines3 import PPO\n",
    "from stable_baselines3.common.monitor import Monitor\n",
    "from stable_baselines3.common.callbacks import EvalCallback\n",
    "import matplotlib.pyplot as plt\n",
    "import os\n"
   ]
  },
  {
   "cell_type": "code",
   "execution_count": null,
   "id": "418d255d",
   "metadata": {},
   "outputs": [],
   "source": [
    "# pip로 필요한 패키지를 설치합니다\n",
    "!pip install stable-baselines3[extra] gym-jsbsim\n"
   ]
  }
 ],
 "metadata": {
  "kernelspec": {
   "display_name": "aivenv",
   "language": "python",
   "name": "python3"
  },
  "language_info": {
   "name": "python",
   "version": "3.11.7"
  }
 },
 "nbformat": 4,
 "nbformat_minor": 5
}
